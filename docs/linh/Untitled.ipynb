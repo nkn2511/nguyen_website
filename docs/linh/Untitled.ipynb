{
 "cells": [
  {
   "cell_type": "code",
   "execution_count": 5,
   "id": "7b16dfa3",
   "metadata": {},
   "outputs": [
    {
     "name": "stdout",
     "output_type": "stream",
     "text": [
      "(0, 0)\n",
      "(500, 0)\n",
      "(1000, 0)\n",
      "(1500, 0)\n",
      "(2000, 0)\n",
      "(0, 500)\n",
      "(500, 500)\n",
      "(1000, 500)\n",
      "(1500, 500)\n",
      "(2000, 500)\n"
     ]
    }
   ],
   "source": [
    "from PIL import Image, ImageEnhance\n",
    "import os\n",
    "collage = Image.new(\"RGBA\", (2500,1000))\n",
    "\n",
    "coords = [(j,i) for i in range(0,2500,500) for j in range(0,2500,500)]\n",
    "\n",
    "imgs = []\n",
    "valid_images = [\".jpg\",\".gif\",\".png\",\".tga\"]\n",
    "path = 'week_2'\n",
    "for f in os.listdir(path):\n",
    "    ext = os.path.splitext(f)[1]\n",
    "    if ext.lower() not in valid_images:\n",
    "        continue\n",
    "    imgs.append((os.path.join(path,f)))\n",
    "\n",
    "\n",
    "for i in range(len(imgs)):\n",
    "    img = Image.open(imgs[i])\n",
    "    coor = coords[i]\n",
    "    img = img.resize((500,500))\n",
    "    img = img.convert('RGB')\n",
    "    collage.paste(img, coor)\n",
    "    print(coor)\n",
    "# collage.show()\n",
    "collage.save(\"yeuxa2.png\")\n",
    "# Output"
   ]
  },
  {
   "cell_type": "code",
   "execution_count": 31,
   "id": "71b357eb",
   "metadata": {},
   "outputs": [
    {
     "data": {
      "text/plain": [
       "135"
      ]
     },
     "execution_count": 31,
     "metadata": {},
     "output_type": "execute_result"
    }
   ],
   "source": [
    "import datetime\n",
    "today = datetime.date.today()\n",
    "someday = datetime.date(2023, 1, 27)\n",
    "diff = today - someday\n",
    "diff.days"
   ]
  },
  {
   "cell_type": "code",
   "execution_count": null,
   "id": "88826453",
   "metadata": {},
   "outputs": [],
   "source": []
  }
 ],
 "metadata": {
  "kernelspec": {
   "display_name": "Python 3 (ipykernel)",
   "language": "python",
   "name": "python3"
  },
  "language_info": {
   "codemirror_mode": {
    "name": "ipython",
    "version": 3
   },
   "file_extension": ".py",
   "mimetype": "text/x-python",
   "name": "python",
   "nbconvert_exporter": "python",
   "pygments_lexer": "ipython3",
   "version": "3.9.6"
  }
 },
 "nbformat": 4,
 "nbformat_minor": 5
}
